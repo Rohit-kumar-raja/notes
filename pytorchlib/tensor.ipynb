{
 "cells": [
  {
   "cell_type": "code",
   "execution_count": 3,
   "id": "f46deef3",
   "metadata": {},
   "outputs": [],
   "source": [
    "import torch"
   ]
  },
  {
   "cell_type": "code",
   "execution_count": 5,
   "id": "3e3d1789",
   "metadata": {},
   "outputs": [
    {
     "data": {
      "text/plain": [
       "tensor([[ 1.5807e-42,  1.8490e+31,  0.0000e+00],\n",
       "        [ 0.0000e+00,  5.0698e-41,  4.6534e+33],\n",
       "        [-7.1185e+15,  3.0885e-41,  1.5821e-42]])"
      ]
     },
     "execution_count": 5,
     "metadata": {},
     "output_type": "execute_result"
    }
   ],
   "source": [
    "torch.empty(3,3)"
   ]
  },
  {
   "cell_type": "code",
   "execution_count": 9,
   "id": "dd67167c",
   "metadata": {},
   "outputs": [
    {
     "data": {
      "text/plain": [
       "tensor([[0.0000e+00, 0.0000e+00, 7.7052e+31, 7.2148e+22],\n",
       "        [1.5766e-19, 1.0256e-08, 6.4456e-10, 3.1643e+12],\n",
       "        [2.7097e-09, 6.6022e-07, 1.7250e-07, 1.2541e+16],\n",
       "        [2.1707e-18, 7.0952e+22, 1.7748e+28, 1.8176e+31]])"
      ]
     },
     "execution_count": 9,
     "metadata": {},
     "output_type": "execute_result"
    }
   ],
   "source": [
    "torch.empty_like(torch.empty(4,4))"
   ]
  },
  {
   "cell_type": "code",
   "execution_count": null,
   "id": "068c0e01",
   "metadata": {},
   "outputs": [],
   "source": []
  }
 ],
 "metadata": {
  "kernelspec": {
   "display_name": "notes",
   "language": "python",
   "name": "python3"
  },
  "language_info": {
   "codemirror_mode": {
    "name": "ipython",
    "version": 3
   },
   "file_extension": ".py",
   "mimetype": "text/x-python",
   "name": "python",
   "nbconvert_exporter": "python",
   "pygments_lexer": "ipython3",
   "version": "3.13.7"
  }
 },
 "nbformat": 4,
 "nbformat_minor": 5
}
